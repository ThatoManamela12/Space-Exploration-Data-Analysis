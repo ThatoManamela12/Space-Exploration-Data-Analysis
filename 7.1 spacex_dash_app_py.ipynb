{
  "nbformat": 4,
  "nbformat_minor": 0,
  "metadata": {
    "colab": {
      "provenance": []
    },
    "kernelspec": {
      "name": "python3",
      "display_name": "Python 3"
    },
    "language_info": {
      "name": "python"
    }
  },
  "cells": [
    {
      "cell_type": "code",
      "source": [
        "!pip install dash"
      ],
      "metadata": {
        "colab": {
          "base_uri": "https://localhost:8080/"
        },
        "id": "-NmBSToi-Vd2",
        "outputId": "4c4a88c7-ce36-47d4-aaca-3b7f89954dfe"
      },
      "execution_count": 2,
      "outputs": [
        {
          "output_type": "stream",
          "name": "stdout",
          "text": [
            "Collecting dash\n",
            "  Downloading dash-2.18.2-py3-none-any.whl.metadata (10 kB)\n",
            "Collecting Flask<3.1,>=1.0.4 (from dash)\n",
            "  Downloading flask-3.0.3-py3-none-any.whl.metadata (3.2 kB)\n",
            "Collecting Werkzeug<3.1 (from dash)\n",
            "  Downloading werkzeug-3.0.6-py3-none-any.whl.metadata (3.7 kB)\n",
            "Requirement already satisfied: plotly>=5.0.0 in /usr/local/lib/python3.10/dist-packages (from dash) (5.24.1)\n",
            "Collecting dash-html-components==2.0.0 (from dash)\n",
            "  Downloading dash_html_components-2.0.0-py3-none-any.whl.metadata (3.8 kB)\n",
            "Collecting dash-core-components==2.0.0 (from dash)\n",
            "  Downloading dash_core_components-2.0.0-py3-none-any.whl.metadata (2.9 kB)\n",
            "Collecting dash-table==5.0.0 (from dash)\n",
            "  Downloading dash_table-5.0.0-py3-none-any.whl.metadata (2.4 kB)\n",
            "Requirement already satisfied: importlib-metadata in /usr/local/lib/python3.10/dist-packages (from dash) (8.5.0)\n",
            "Requirement already satisfied: typing-extensions>=4.1.1 in /usr/local/lib/python3.10/dist-packages (from dash) (4.12.2)\n",
            "Requirement already satisfied: requests in /usr/local/lib/python3.10/dist-packages (from dash) (2.32.3)\n",
            "Collecting retrying (from dash)\n",
            "  Downloading retrying-1.3.4-py3-none-any.whl.metadata (6.9 kB)\n",
            "Requirement already satisfied: nest-asyncio in /usr/local/lib/python3.10/dist-packages (from dash) (1.6.0)\n",
            "Requirement already satisfied: setuptools in /usr/local/lib/python3.10/dist-packages (from dash) (75.1.0)\n",
            "Requirement already satisfied: Jinja2>=3.1.2 in /usr/local/lib/python3.10/dist-packages (from Flask<3.1,>=1.0.4->dash) (3.1.4)\n",
            "Requirement already satisfied: itsdangerous>=2.1.2 in /usr/local/lib/python3.10/dist-packages (from Flask<3.1,>=1.0.4->dash) (2.2.0)\n",
            "Requirement already satisfied: click>=8.1.3 in /usr/local/lib/python3.10/dist-packages (from Flask<3.1,>=1.0.4->dash) (8.1.7)\n",
            "Requirement already satisfied: blinker>=1.6.2 in /usr/local/lib/python3.10/dist-packages (from Flask<3.1,>=1.0.4->dash) (1.9.0)\n",
            "Requirement already satisfied: tenacity>=6.2.0 in /usr/local/lib/python3.10/dist-packages (from plotly>=5.0.0->dash) (9.0.0)\n",
            "Requirement already satisfied: packaging in /usr/local/lib/python3.10/dist-packages (from plotly>=5.0.0->dash) (24.2)\n",
            "Requirement already satisfied: MarkupSafe>=2.1.1 in /usr/local/lib/python3.10/dist-packages (from Werkzeug<3.1->dash) (3.0.2)\n",
            "Requirement already satisfied: zipp>=3.20 in /usr/local/lib/python3.10/dist-packages (from importlib-metadata->dash) (3.21.0)\n",
            "Requirement already satisfied: charset-normalizer<4,>=2 in /usr/local/lib/python3.10/dist-packages (from requests->dash) (3.4.0)\n",
            "Requirement already satisfied: idna<4,>=2.5 in /usr/local/lib/python3.10/dist-packages (from requests->dash) (3.10)\n",
            "Requirement already satisfied: urllib3<3,>=1.21.1 in /usr/local/lib/python3.10/dist-packages (from requests->dash) (2.2.3)\n",
            "Requirement already satisfied: certifi>=2017.4.17 in /usr/local/lib/python3.10/dist-packages (from requests->dash) (2024.12.14)\n",
            "Requirement already satisfied: six>=1.7.0 in /usr/local/lib/python3.10/dist-packages (from retrying->dash) (1.17.0)\n",
            "Downloading dash-2.18.2-py3-none-any.whl (7.8 MB)\n",
            "\u001b[2K   \u001b[90m━━━━━━━━━━━━━━━━━━━━━━━━━━━━━━━━━━━━━━━━\u001b[0m \u001b[32m7.8/7.8 MB\u001b[0m \u001b[31m59.6 MB/s\u001b[0m eta \u001b[36m0:00:00\u001b[0m\n",
            "\u001b[?25hDownloading dash_core_components-2.0.0-py3-none-any.whl (3.8 kB)\n",
            "Downloading dash_html_components-2.0.0-py3-none-any.whl (4.1 kB)\n",
            "Downloading dash_table-5.0.0-py3-none-any.whl (3.9 kB)\n",
            "Downloading flask-3.0.3-py3-none-any.whl (101 kB)\n",
            "\u001b[2K   \u001b[90m━━━━━━━━━━━━━━━━━━━━━━━━━━━━━━━━━━━━━━━━\u001b[0m \u001b[32m101.7/101.7 kB\u001b[0m \u001b[31m11.5 MB/s\u001b[0m eta \u001b[36m0:00:00\u001b[0m\n",
            "\u001b[?25hDownloading werkzeug-3.0.6-py3-none-any.whl (227 kB)\n",
            "\u001b[2K   \u001b[90m━━━━━━━━━━━━━━━━━━━━━━━━━━━━━━━━━━━━━━━━\u001b[0m \u001b[32m228.0/228.0 kB\u001b[0m \u001b[31m22.9 MB/s\u001b[0m eta \u001b[36m0:00:00\u001b[0m\n",
            "\u001b[?25hDownloading retrying-1.3.4-py3-none-any.whl (11 kB)\n",
            "Installing collected packages: dash-table, dash-html-components, dash-core-components, Werkzeug, retrying, Flask, dash\n",
            "  Attempting uninstall: Werkzeug\n",
            "    Found existing installation: Werkzeug 3.1.3\n",
            "    Uninstalling Werkzeug-3.1.3:\n",
            "      Successfully uninstalled Werkzeug-3.1.3\n",
            "  Attempting uninstall: Flask\n",
            "    Found existing installation: Flask 3.1.0\n",
            "    Uninstalling Flask-3.1.0:\n",
            "      Successfully uninstalled Flask-3.1.0\n",
            "Successfully installed Flask-3.0.3 Werkzeug-3.0.6 dash-2.18.2 dash-core-components-2.0.0 dash-html-components-2.0.0 dash-table-5.0.0 retrying-1.3.4\n"
          ]
        }
      ]
    },
    {
      "cell_type": "code",
      "execution_count": 5,
      "metadata": {
        "colab": {
          "base_uri": "https://localhost:8080/",
          "height": 672
        },
        "id": "pF8sI2Uy9eDV",
        "outputId": "ac91f4a0-ceed-4889-bc42-b00b889b03e3"
      },
      "outputs": [
        {
          "output_type": "display_data",
          "data": {
            "text/plain": [
              "<IPython.core.display.Javascript object>"
            ],
            "application/javascript": [
              "(async (port, path, width, height, cache, element) => {\n",
              "    if (!google.colab.kernel.accessAllowed && !cache) {\n",
              "      return;\n",
              "    }\n",
              "    element.appendChild(document.createTextNode(''));\n",
              "    const url = await google.colab.kernel.proxyPort(port, {cache});\n",
              "    const iframe = document.createElement('iframe');\n",
              "    iframe.src = new URL(path, url).toString();\n",
              "    iframe.height = height;\n",
              "    iframe.width = width;\n",
              "    iframe.style.border = 0;\n",
              "    iframe.allow = [\n",
              "        'accelerometer',\n",
              "        'autoplay',\n",
              "        'camera',\n",
              "        'clipboard-read',\n",
              "        'clipboard-write',\n",
              "        'gyroscope',\n",
              "        'magnetometer',\n",
              "        'microphone',\n",
              "        'serial',\n",
              "        'usb',\n",
              "        'xr-spatial-tracking',\n",
              "    ].join('; ');\n",
              "    element.appendChild(iframe);\n",
              "  })(8050, \"/\", \"100%\", 650, false, window.element)"
            ]
          },
          "metadata": {}
        }
      ],
      "source": [
        "# Import required libraries\n",
        "import pandas as pd\n",
        "import dash\n",
        "from dash import html, dcc\n",
        "from dash.dependencies import Input, Output\n",
        "import plotly.express as px\n",
        "\n",
        "# Read the airline data into pandas dataframe\n",
        "spacex_df = pd.read_csv(\"https://cf-courses-data.s3.us.cloud-object-storage.appdomain.cloud/IBM-DS0321EN-SkillsNetwork/datasets/spacex_launch_dash.csv\")\n",
        "max_payload = spacex_df['Payload Mass (kg)'].max()\n",
        "min_payload = spacex_df['Payload Mass (kg)'].min()\n",
        "\n",
        "# Create a dash application\n",
        "app = dash.Dash(__name__)\n",
        "\n",
        "# Create an app layout\n",
        "app.layout = html.Div(children=[\n",
        "    html.H1('SpaceX Launch Records Dashboard', style={'textAlign': 'center', 'color': '#503D36', 'font-size': 40}),\n",
        "\n",
        "    # Dropdown for Launch Site selection\n",
        "    dcc.Dropdown(\n",
        "        id='site-dropdown',\n",
        "        options=[\n",
        "            {'label': 'All Sites', 'value': 'ALL'}\n",
        "        ] + [{'label': site, 'value': site} for site in spacex_df['Launch Site'].unique()],\n",
        "        value='ALL',  # Default value for the dropdown\n",
        "        placeholder=\"Select a Launch Site here\",  # Placeholder text\n",
        "        searchable=True  # Enable search functionality\n",
        "    ),\n",
        "    html.Br(),\n",
        "\n",
        "    # Pie chart for success count\n",
        "    html.Div(dcc.Graph(id='success-pie-chart')),\n",
        "    html.Br(),\n",
        "\n",
        "    # Payload range slider\n",
        "    html.P(\"Payload range (Kg):\"),\n",
        "    dcc.RangeSlider(\n",
        "        id='payload-slider',\n",
        "        min=0,\n",
        "        max=10000,\n",
        "        step=1000,\n",
        "        marks={i: f'{i} Kg' for i in range(0, 10001, 1000)},  # Marks at every 1000 Kg\n",
        "        value=[min_payload, max_payload]  # Default range set to min and max payload\n",
        "    ),\n",
        "    html.Br(),\n",
        "\n",
        "    # Scatter chart for payload vs success\n",
        "    html.Div(dcc.Graph(id='success-payload-scatter-chart')),\n",
        "])\n",
        "\n",
        "@app.callback(\n",
        "    Output(component_id='success-pie-chart', component_property='figure'),\n",
        "    Input(component_id='site-dropdown', component_property='value')\n",
        ")\n",
        "def get_pie_chart(entered_site):\n",
        "    if entered_site == 'ALL':\n",
        "        # Aggregate data to show total success launches by site\n",
        "        site_counts = spacex_df[spacex_df['class'] == 1].groupby('Launch Site').size().reset_index(name='count')\n",
        "        fig = px.pie(\n",
        "            site_counts,\n",
        "            values='count',\n",
        "            names='Launch Site',\n",
        "            title='Total Success Launches By Site'\n",
        "        )\n",
        "    else:\n",
        "        # Filter dataframe for the selected site\n",
        "        filtered_df = spacex_df[spacex_df['Launch Site'] == entered_site]\n",
        "        site_counts = filtered_df['class'].value_counts()\n",
        "        fig = px.pie(\n",
        "            names=['Success', 'Failure'],\n",
        "            values=site_counts,\n",
        "            title=f'Total Success Launches for Site {entered_site}'\n",
        "        )\n",
        "    return fig\n",
        "\n",
        "# Callback for the scatter plot\n",
        "@app.callback(\n",
        "    Output(component_id='success-payload-scatter-chart', component_property='figure'),\n",
        "    [Input(component_id='site-dropdown', component_property='value'),\n",
        "     Input(component_id='payload-slider', component_property='value')]\n",
        ")\n",
        "def update_scatter_chart(selected_site, payload_range):\n",
        "    low, high = payload_range\n",
        "    filtered_df = spacex_df[(spacex_df['Payload Mass (kg)'] >= low) &\n",
        "                            (spacex_df['Payload Mass (kg)'] <= high)]\n",
        "\n",
        "    if selected_site == 'ALL':\n",
        "        fig = px.scatter(\n",
        "            filtered_df,\n",
        "            x='Payload Mass (kg)',\n",
        "            y='class',\n",
        "            color='Booster Version Category',\n",
        "            title='Correlation between Payload and Success for All Sites',\n",
        "            labels={'class': 'Launch Success'}\n",
        "        )\n",
        "    else:\n",
        "        site_data = filtered_df[filtered_df['Launch Site'] == selected_site]\n",
        "        fig = px.scatter(\n",
        "            site_data,\n",
        "            x='Payload Mass (kg)',\n",
        "            y='class',\n",
        "            color='Booster Version Category',\n",
        "            title=f'Correlation between Payload and Success for {selected_site}',\n",
        "            labels={'class': 'Launch Success'}\n",
        "        )\n",
        "    return fig\n",
        "\n",
        "# Display in different tabs\n",
        "@app.callback(Output('tab-content', 'children'),\n",
        "              Input('tabs', 'value'))\n",
        "def render_content(tab):\n",
        "    if tab == 'tab-1':\n",
        "        return html.Div([\n",
        "            html.H3('Tab content 1')\n",
        "        ])\n",
        "    elif tab == 'tab-2':\n",
        "        return html.Div([\n",
        "            html.H3('Tab content 2')\n",
        "        ])\n",
        "\n",
        "\n",
        "# Run the app\n",
        "if __name__ == '__main__':\n",
        "    app.run_server()\n"
      ]
    },
    {
      "cell_type": "code",
      "source": [],
      "metadata": {
        "id": "4DrOyiL2Grww"
      },
      "execution_count": null,
      "outputs": []
    },
    {
      "cell_type": "markdown",
      "source": [
        "# 1. Which site has the largest successful launches?"
      ],
      "metadata": {
        "id": "xfyoHq4oGwn7"
      }
    },
    {
      "cell_type": "code",
      "source": [
        "spacex_df[spacex_df['class'] == 1].groupby('Launch Site').size().idxmax()\n"
      ],
      "metadata": {
        "colab": {
          "base_uri": "https://localhost:8080/",
          "height": 36
        },
        "id": "cJ9RCoEw-KJS",
        "outputId": "71e3bdb1-dcc7-4bec-9f30-fb984e1c5e6f"
      },
      "execution_count": 6,
      "outputs": [
        {
          "output_type": "execute_result",
          "data": {
            "text/plain": [
              "'KSC LC-39A'"
            ],
            "application/vnd.google.colaboratory.intrinsic+json": {
              "type": "string"
            }
          },
          "metadata": {},
          "execution_count": 6
        }
      ]
    },
    {
      "cell_type": "markdown",
      "source": [
        "# 2. Which site has the highest launch success rate?"
      ],
      "metadata": {
        "id": "3K7zwVyMG6n4"
      }
    },
    {
      "cell_type": "code",
      "source": [
        "site_success_rate = spacex_df.groupby('Launch Site')['class'].mean()\n",
        "site_success_rate.idxmax()  # Site with the highest success rate\n"
      ],
      "metadata": {
        "colab": {
          "base_uri": "https://localhost:8080/",
          "height": 36
        },
        "id": "AG69bAbxG9hF",
        "outputId": "28161c2f-df0b-49bf-adf7-eeb2f72e8de9"
      },
      "execution_count": 7,
      "outputs": [
        {
          "output_type": "execute_result",
          "data": {
            "text/plain": [
              "'KSC LC-39A'"
            ],
            "application/vnd.google.colaboratory.intrinsic+json": {
              "type": "string"
            }
          },
          "metadata": {},
          "execution_count": 7
        }
      ]
    },
    {
      "cell_type": "markdown",
      "source": [
        "# 3. Which payload range(s) has the highest launch success rate?"
      ],
      "metadata": {
        "id": "6vo7lUckHG92"
      }
    },
    {
      "cell_type": "code",
      "source": [
        "spacex_df['Payload Range'] = pd.cut(\n",
        "    spacex_df['Payload Mass (kg)'], bins=[0, 2000, 4000, 6000, 8000, 10000], labels=['0-2k', '2k-4k', '4k-6k', '6k-8k', '8k-10k']\n",
        ")\n",
        "payload_success_rate = spacex_df.groupby('Payload Range')['class'].mean()\n",
        "payload_success_rate.idxmax()  # Range with the highest success rate\n"
      ],
      "metadata": {
        "colab": {
          "base_uri": "https://localhost:8080/",
          "height": 125
        },
        "id": "qU9RJdp7G_jI",
        "outputId": "9cc7753b-5b56-4f60-d6da-cce61363b6d0"
      },
      "execution_count": 8,
      "outputs": [
        {
          "output_type": "stream",
          "name": "stderr",
          "text": [
            "<ipython-input-8-afd3c0a4d879>:4: FutureWarning:\n",
            "\n",
            "The default of observed=False is deprecated and will be changed to True in a future version of pandas. Pass observed=False to retain current behavior or observed=True to adopt the future default and silence this warning.\n",
            "\n"
          ]
        },
        {
          "output_type": "execute_result",
          "data": {
            "text/plain": [
              "'2k-4k'"
            ],
            "application/vnd.google.colaboratory.intrinsic+json": {
              "type": "string"
            }
          },
          "metadata": {},
          "execution_count": 8
        }
      ]
    },
    {
      "cell_type": "markdown",
      "source": [
        "# 4. Which payload range(s) has the lowest launch success rate?"
      ],
      "metadata": {
        "id": "HpnM2lSPHUKo"
      }
    },
    {
      "cell_type": "code",
      "source": [
        "payload_success_rate.idxmin()  # Range with the lowest success rate\n"
      ],
      "metadata": {
        "colab": {
          "base_uri": "https://localhost:8080/",
          "height": 36
        },
        "id": "hMqb2-qDHNZy",
        "outputId": "0019ca67-f430-40d3-ef85-65bef80c78de"
      },
      "execution_count": 10,
      "outputs": [
        {
          "output_type": "execute_result",
          "data": {
            "text/plain": [
              "'6k-8k'"
            ],
            "application/vnd.google.colaboratory.intrinsic+json": {
              "type": "string"
            }
          },
          "metadata": {},
          "execution_count": 10
        }
      ]
    },
    {
      "cell_type": "markdown",
      "source": [
        "# 5. Which F9 Booster version (v1.0, v1.1, FT, B4, B5, etc.) has the highest launch success rate?"
      ],
      "metadata": {
        "id": "rnu-vm79HiEM"
      }
    },
    {
      "cell_type": "code",
      "source": [
        "booster_success_rate = spacex_df.groupby('Booster Version Category')['class'].mean()\n",
        "booster_success_rate.idxmax()  # Booster version with the highest success rate\n"
      ],
      "metadata": {
        "colab": {
          "base_uri": "https://localhost:8080/",
          "height": 36
        },
        "id": "4i6P_Hd8HlIk",
        "outputId": "58c1a533-f016-4baf-b54e-836de15d5d84"
      },
      "execution_count": 11,
      "outputs": [
        {
          "output_type": "execute_result",
          "data": {
            "text/plain": [
              "'B5'"
            ],
            "application/vnd.google.colaboratory.intrinsic+json": {
              "type": "string"
            }
          },
          "metadata": {},
          "execution_count": 11
        }
      ]
    },
    {
      "cell_type": "code",
      "source": [],
      "metadata": {
        "id": "eE6ORwmAHuAU"
      },
      "execution_count": null,
      "outputs": []
    }
  ]
}